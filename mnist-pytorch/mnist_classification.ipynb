{
 "cells": [
  {
   "cell_type": "code",
   "execution_count": 1,
   "metadata": {},
   "outputs": [],
   "source": [
    "from __future__ import print_function\n",
    "import argparse\n",
    "\n",
    "import torch\n",
    "import torch.nn as nn\n",
    "import torch.nn.functional as F\n",
    "import torch.optim as optim\n",
    "from torchvision import datasets, transforms"
   ]
  },
  {
   "cell_type": "code",
   "execution_count": 2,
   "metadata": {},
   "outputs": [],
   "source": [
    "class Net(nn.Module):\n",
    "    def __init__(self):\n",
    "        super(Net, self).__init__()\n",
    "        self.conv1 = nn.Conv2d(1, 20, 5, 1)\n",
    "        self.conv2 = nn.Conv2d(20, 50, 5, 1)\n",
    "        self.fc1 = nn.Linear(4*4*50, 500)\n",
    "        self.fc2 = nn.Linear(500, 10)\n",
    "\n",
    "    def forward(self, x):\n",
    "        x = F.relu(self.conv1(x))\n",
    "        x = F.max_pool2d(x, 2, 2)\n",
    "        x = F.relu(self.conv2(x))\n",
    "        x = F.max_pool2d(x, 2, 2)\n",
    "        x = x.view(-1, 4*4*50)\n",
    "        x = F.relu(self.fc1(x))\n",
    "        x = self.fc2(x)\n",
    "        return F.log_softmax(x, dim=1)"
   ]
  },
  {
   "cell_type": "code",
   "execution_count": 3,
   "metadata": {},
   "outputs": [],
   "source": [
    "def train(model, device, train_loader, optimizer, epoch):\n",
    "    model.train()\n",
    "    for batch_idx, (data, target) in enumerate(train_loader):\n",
    "        data, target = data.to(device), target.to(device)\n",
    "        optimizer.zero_grad()\n",
    "        output = model(data)\n",
    "        loss = F.nll_loss(output, target)\n",
    "        loss.backward()\n",
    "        optimizer.step()\n",
    "        if batch_idx % 100 == 0:\n",
    "            print('Train Epoch: {} [{}/{} ({:.0f}%)]\\tLoss: {:.6f}'.format(\n",
    "                epoch, batch_idx * len(data), len(train_loader.dataset),\n",
    "                100. * batch_idx / len(train_loader), loss.item()))"
   ]
  },
  {
   "cell_type": "code",
   "execution_count": 4,
   "metadata": {},
   "outputs": [],
   "source": [
    "def test(model, device, test_loader):\n",
    "    model.eval()\n",
    "    test_loss = 0\n",
    "    correct = 0\n",
    "    with torch.no_grad():\n",
    "        for data, target in test_loader:\n",
    "            data, target = data.to(device), target.to(device)\n",
    "            output = model(data)\n",
    "            test_loss += F.nll_loss(output, target, reduction='sum').item() # sum up batch loss\n",
    "            pred = output.argmax(dim=1, keepdim=True) # get the index of the max log-probability\n",
    "            correct += pred.eq(target.view_as(pred)).sum().item()\n",
    "\n",
    "    test_loss /= len(test_loader.dataset)\n",
    "\n",
    "    print('\\nTest set: Average loss: {:.4f}, Accuracy: {}/{} ({:.0f}%)\\n'.format(\n",
    "        test_loss, correct, len(test_loader.dataset),\n",
    "        100. * correct / len(test_loader.dataset)))\n",
    "    \n",
    "    return test_loss"
   ]
  },
  {
   "cell_type": "code",
   "execution_count": null,
   "metadata": {
    "scrolled": false
   },
   "outputs": [
    {
     "name": "stdout",
     "output_type": "stream",
     "text": [
      "Downloading http://yann.lecun.com/exdb/mnist/train-images-idx3-ubyte.gz to ./data/MNIST/raw/train-images-idx3-ubyte.gz\n"
     ]
    },
    {
     "name": "stderr",
     "output_type": "stream",
     "text": [
      "100.1%"
     ]
    },
    {
     "name": "stdout",
     "output_type": "stream",
     "text": [
      "Extracting ./data/MNIST/raw/train-images-idx3-ubyte.gz\n",
      "Downloading http://yann.lecun.com/exdb/mnist/train-labels-idx1-ubyte.gz to ./data/MNIST/raw/train-labels-idx1-ubyte.gz\n"
     ]
    },
    {
     "name": "stderr",
     "output_type": "stream",
     "text": [
      "113.5%"
     ]
    },
    {
     "name": "stdout",
     "output_type": "stream",
     "text": [
      "Extracting ./data/MNIST/raw/train-labels-idx1-ubyte.gz\n",
      "Downloading http://yann.lecun.com/exdb/mnist/t10k-images-idx3-ubyte.gz to ./data/MNIST/raw/t10k-images-idx3-ubyte.gz\n"
     ]
    },
    {
     "name": "stderr",
     "output_type": "stream",
     "text": [
      "100.4%"
     ]
    },
    {
     "name": "stdout",
     "output_type": "stream",
     "text": [
      "Extracting ./data/MNIST/raw/t10k-images-idx3-ubyte.gz\n",
      "Downloading http://yann.lecun.com/exdb/mnist/t10k-labels-idx1-ubyte.gz to ./data/MNIST/raw/t10k-labels-idx1-ubyte.gz\n"
     ]
    },
    {
     "name": "stderr",
     "output_type": "stream",
     "text": [
      "180.4%"
     ]
    },
    {
     "name": "stdout",
     "output_type": "stream",
     "text": [
      "Extracting ./data/MNIST/raw/t10k-labels-idx1-ubyte.gz\n",
      "Processing...\n",
      "Done!\n",
      "Train Epoch: 1 [0/60000 (0%)]\tLoss: 2.300039\n",
      "Train Epoch: 1 [6400/60000 (11%)]\tLoss: 0.437761\n",
      "Train Epoch: 1 [12800/60000 (21%)]\tLoss: 0.365868\n",
      "Train Epoch: 1 [19200/60000 (32%)]\tLoss: 0.324973\n",
      "Train Epoch: 1 [25600/60000 (43%)]\tLoss: 0.224680\n",
      "Train Epoch: 1 [32000/60000 (53%)]\tLoss: 0.340386\n",
      "Train Epoch: 1 [38400/60000 (64%)]\tLoss: 0.063599\n",
      "Train Epoch: 1 [44800/60000 (75%)]\tLoss: 0.116107\n",
      "Train Epoch: 1 [51200/60000 (85%)]\tLoss: 0.146479\n",
      "Train Epoch: 1 [57600/60000 (96%)]\tLoss: 0.117738\n",
      "\n",
      "Test set: Average loss: 0.1015, Accuracy: 9668/10000 (97%)\n",
      "\n",
      "Train Epoch: 2 [0/60000 (0%)]\tLoss: 0.145585\n",
      "Train Epoch: 2 [6400/60000 (11%)]\tLoss: 0.101984\n",
      "Train Epoch: 2 [12800/60000 (21%)]\tLoss: 0.058953\n",
      "Train Epoch: 2 [19200/60000 (32%)]\tLoss: 0.063877\n",
      "Train Epoch: 2 [25600/60000 (43%)]\tLoss: 0.120996\n",
      "Train Epoch: 2 [32000/60000 (53%)]\tLoss: 0.034490\n",
      "Train Epoch: 2 [38400/60000 (64%)]\tLoss: 0.034536\n",
      "Train Epoch: 2 [44800/60000 (75%)]\tLoss: 0.037733\n",
      "Train Epoch: 2 [51200/60000 (85%)]\tLoss: 0.028126\n",
      "Train Epoch: 2 [57600/60000 (96%)]\tLoss: 0.037114\n",
      "\n",
      "Test set: Average loss: 0.0612, Accuracy: 9827/10000 (98%)\n",
      "\n",
      "Train Epoch: 3 [0/60000 (0%)]\tLoss: 0.052508\n",
      "Train Epoch: 3 [6400/60000 (11%)]\tLoss: 0.098466\n",
      "Train Epoch: 3 [12800/60000 (21%)]\tLoss: 0.033962\n",
      "Train Epoch: 3 [19200/60000 (32%)]\tLoss: 0.066293\n",
      "Train Epoch: 3 [25600/60000 (43%)]\tLoss: 0.035055\n",
      "Train Epoch: 3 [32000/60000 (53%)]\tLoss: 0.029308\n",
      "Train Epoch: 3 [38400/60000 (64%)]\tLoss: 0.021435\n",
      "Train Epoch: 3 [44800/60000 (75%)]\tLoss: 0.060037\n",
      "Train Epoch: 3 [51200/60000 (85%)]\tLoss: 0.048409\n",
      "Train Epoch: 3 [57600/60000 (96%)]\tLoss: 0.015311\n",
      "\n",
      "Test set: Average loss: 0.0555, Accuracy: 9810/10000 (98%)\n",
      "\n",
      "Train Epoch: 4 [0/60000 (0%)]\tLoss: 0.019481\n",
      "Train Epoch: 4 [6400/60000 (11%)]\tLoss: 0.024024\n",
      "Train Epoch: 4 [12800/60000 (21%)]\tLoss: 0.074912\n",
      "Train Epoch: 4 [19200/60000 (32%)]\tLoss: 0.026783\n",
      "Train Epoch: 4 [25600/60000 (43%)]\tLoss: 0.016168\n",
      "Train Epoch: 4 [32000/60000 (53%)]\tLoss: 0.015955\n",
      "Train Epoch: 4 [38400/60000 (64%)]\tLoss: 0.009814\n",
      "Train Epoch: 4 [44800/60000 (75%)]\tLoss: 0.066358\n",
      "Train Epoch: 4 [51200/60000 (85%)]\tLoss: 0.013677\n",
      "Train Epoch: 4 [57600/60000 (96%)]\tLoss: 0.061697\n",
      "\n",
      "Test set: Average loss: 0.0411, Accuracy: 9861/10000 (99%)\n",
      "\n",
      "Train Epoch: 5 [0/60000 (0%)]\tLoss: 0.010234\n",
      "Train Epoch: 5 [6400/60000 (11%)]\tLoss: 0.055958\n",
      "Train Epoch: 5 [12800/60000 (21%)]\tLoss: 0.063608\n",
      "Train Epoch: 5 [19200/60000 (32%)]\tLoss: 0.050803\n",
      "Train Epoch: 5 [25600/60000 (43%)]\tLoss: 0.026661\n",
      "Train Epoch: 5 [32000/60000 (53%)]\tLoss: 0.039411\n",
      "Train Epoch: 5 [38400/60000 (64%)]\tLoss: 0.055644\n",
      "Train Epoch: 5 [44800/60000 (75%)]\tLoss: 0.174347\n",
      "Train Epoch: 5 [51200/60000 (85%)]\tLoss: 0.073228\n",
      "Train Epoch: 5 [57600/60000 (96%)]\tLoss: 0.029744\n",
      "\n",
      "Test set: Average loss: 0.0382, Accuracy: 9867/10000 (99%)\n",
      "\n",
      "Train Epoch: 6 [0/60000 (0%)]\tLoss: 0.127183\n",
      "Train Epoch: 6 [6400/60000 (11%)]\tLoss: 0.021928\n",
      "Train Epoch: 6 [12800/60000 (21%)]\tLoss: 0.034208\n",
      "Train Epoch: 6 [19200/60000 (32%)]\tLoss: 0.018818\n",
      "Train Epoch: 6 [25600/60000 (43%)]\tLoss: 0.066114\n",
      "Train Epoch: 6 [32000/60000 (53%)]\tLoss: 0.014374\n",
      "Train Epoch: 6 [38400/60000 (64%)]\tLoss: 0.044664\n",
      "Train Epoch: 6 [44800/60000 (75%)]\tLoss: 0.007975\n",
      "Train Epoch: 6 [51200/60000 (85%)]\tLoss: 0.035455\n",
      "Train Epoch: 6 [57600/60000 (96%)]\tLoss: 0.005544\n"
     ]
    }
   ],
   "source": [
    "use_cuda = torch.cuda.is_available()\n",
    "\n",
    "torch.manual_seed(1)\n",
    "device = torch.device(\"cuda\" if use_cuda else \"cpu\")\n",
    "\n",
    "kwargs = {'num_workers': 1, 'pin_memory': True} if use_cuda else {}\n",
    "train_loader = torch.utils.data.DataLoader(\n",
    "    datasets.MNIST('./data', train=True, download=True,\n",
    "                   transform=transforms.Compose([\n",
    "                       transforms.ToTensor(),\n",
    "                       transforms.Normalize((0.1307,), (0.3081,))\n",
    "                   ])),\n",
    "    batch_size=64, shuffle=True, **kwargs)\n",
    "test_loader = torch.utils.data.DataLoader(\n",
    "    datasets.MNIST('./data', train=False, transform=transforms.Compose([\n",
    "                       transforms.ToTensor(),\n",
    "                       transforms.Normalize((0.1307,), (0.3081,))\n",
    "                   ])),\n",
    "    batch_size=1000, shuffle=True, **kwargs)\n",
    "\n",
    "\n",
    "model = Net().to(device)\n",
    "optimizer = optim.SGD(model.parameters(), lr=0.01, momentum=0.5)\n",
    "\n",
    "test_loss_list = []\n",
    "for epoch in range(1, 11):\n",
    "    train(model, device, train_loader, optimizer, epoch)\n",
    "    test_loss = test(model, device, test_loader)\n",
    "    test_loss_list.append(test_loss)"
   ]
  },
  {
   "cell_type": "code",
   "execution_count": 6,
   "metadata": {},
   "outputs": [
    {
     "data": {
      "text/plain": [
       "[<matplotlib.lines.Line2D at 0x7fc65454af60>]"
      ]
     },
     "execution_count": 6,
     "metadata": {},
     "output_type": "execute_result"
    }
   ],
   "source": [
    "import numpy as np\n",
    "from matplotlib import pyplot as plt\n",
    "plt.figure()\n",
    "plt.title('test loss')\n",
    "plt.plot(np.arange(len(test_loss_list)), np.array(test_loss_list))"
   ]
  },
  {
   "cell_type": "code",
   "execution_count": 7,
   "metadata": {},
   "outputs": [],
   "source": [
    "import random\n",
    "rand = random.randint(0, 9989)\n",
    "\n",
    "model.eval()\n",
    "image_list = []\n",
    "target_list = []\n",
    "pred_list = []\n",
    "with torch.no_grad():\n",
    "    for idx, (data, target) in enumerate(test_loader):\n",
    "        if idx>=rand and idx<rand+10:\n",
    "            data, target = data.to(device), target.to(device)\n",
    "            image_list.append(data.squeeze(0).squeeze(0).cpu().numpy())\n",
    "            target_list.append(target.item())\n",
    "            output = model(data)\n",
    "            pred = output.argmax(dim=1, keepdim=True) # get the index of the max log-probability\n",
    "            pred_list.append(pred.item())\n",
    "        else:\n",
    "            continue"
   ]
  },
  {
   "cell_type": "code",
   "execution_count": 8,
   "metadata": {},
   "outputs": [],
   "source": [
    "Row = 2\n",
    "Column = 5\n",
    "for idx, img in enumerate(image_list):\n",
    "    plt.subplot(Row, Column, idx+1)\n",
    "    plt.title('Label = {}\\nPredict = {}'.format(target_list[idx], pred_list[idx]))\n",
    "    plt.imshow(img, cmap='gray')\n",
    "    plt.axis('off')"
   ]
  }
 ],
 "metadata": {
  "kernelspec": {
   "display_name": "Python 3",
   "language": "python",
   "name": "python3"
  },
  "language_info": {
   "codemirror_mode": {
    "name": "ipython",
    "version": 3
   },
   "file_extension": ".py",
   "mimetype": "text/x-python",
   "name": "python",
   "nbconvert_exporter": "python",
   "pygments_lexer": "ipython3",
   "version": "3.6.8"
  }
 },
 "nbformat": 4,
 "nbformat_minor": 2
}

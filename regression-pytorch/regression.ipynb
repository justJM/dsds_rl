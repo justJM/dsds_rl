{
 "cells": [
  {
   "cell_type": "code",
   "execution_count": 1,
   "metadata": {},
   "outputs": [],
   "source": [
    "%matplotlib inline\n",
    "import torch\n",
    "\n",
    "import pandas as pd\n",
    "import matplotlib.pyplot as plt"
   ]
  },
  {
   "cell_type": "code",
   "execution_count": 2,
   "metadata": {},
   "outputs": [
    {
     "data": {
      "image/png": "[encoded data removed]",
      "text/plain": [
       "<Figure size 432x288 with 1 Axes>"
      ]
     },
     "metadata": {
      "needs_background": "light"
     },
     "output_type": "display_data"
    }
   ],
   "source": [
    "data = pd.read_csv('data.csv')\n",
    "x = torch.from_numpy(data['x'].values).unsqueeze(dim=1).float()\n",
    "y = torch.from_numpy(data['y'].values).unsqueeze(dim=1).float()\n",
    "plt.xlim(0, 11);    plt.ylim(0, 8)\n",
    "plt.scatter(x, y)\n",
    "plt.show()"
   ]
  },
  {
   "cell_type": "code",
   "execution_count": 3,
   "metadata": {},
   "outputs": [
    {
     "name": "stdout",
     "output_type": "stream",
     "text": [
      "Linear(in_features=1, out_features=1, bias=True)\n",
      "Parameter containing:\n",
      "tensor([[-0.7742]], requires_grad=True)\n",
      "Parameter containing:\n",
      "tensor([-0.4185], requires_grad=True)\n"
     ]
    }
   ],
   "source": [
    "import torch.nn as nn\n",
    "model = nn.Linear(in_features=1, out_features=1, bias=True)\n",
    "print(model)\n",
    "print(model.weight)\n",
    "print(model.bias)"
   ]
  },
  {
   "cell_type": "code",
   "execution_count": 4,
   "metadata": {},
   "outputs": [],
   "source": [
    "criterion = nn.MSELoss()\n",
    "optimizer = torch.optim.Adam(params=model.parameters(), lr=0.01)"
   ]
  },
  {
   "cell_type": "code",
   "execution_count": 5,
   "metadata": {},
   "outputs": [
    {
     "name": "stdout",
     "output_type": "stream",
     "text": [
      "83.34738159179688\n",
      "59.645591735839844\n",
      "40.87042236328125\n",
      "26.89234161376953\n",
      "16.98308563232422\n",
      "10.273117065429688\n",
      "5.9412150382995605\n",
      "3.2826309204101562\n",
      "1.7355338335037231\n",
      "0.8835024237632751\n",
      "0.4399719536304474\n",
      "0.2218984067440033\n",
      "0.12066040188074112\n",
      "0.07628059387207031\n",
      "0.057890281081199646\n",
      "0.050657592713832855\n",
      "0.0479220449924469\n",
      "0.0468866340816021\n",
      "0.04645314812660217\n",
      "0.04621858522295952\n",
      "0.046045199036598206\n",
      "0.04588916897773743\n",
      "0.04573780298233032\n",
      "0.04558776691555977\n",
      "0.04543840140104294\n"
     ]
    }
   ],
   "source": [
    "for step in range(500):\n",
    "    prediction = model(x)\n",
    "    loss = criterion(input=prediction, target=y)\n",
    "    optimizer.zero_grad()\n",
    "    loss.backward()\n",
    "    optimizer.step()\n",
    "    if step % 20 == 0:\n",
    "        print(loss.item())\n",
    "        pass"
   ]
  },
  {
   "cell_type": "code",
   "execution_count": 6,
   "metadata": {},
   "outputs": [
    {
     "data": {
      "image/png": "[encoded data removed]",
      "text/plain": [
       "<Figure size 432x288 with 1 Axes>"
      ]
     },
     "metadata": {
      "needs_background": "light"
     },
     "output_type": "display_data"
    }
   ],
   "source": [
    "def display_results(model, x, y):\n",
    "    prediction = model(x)\n",
    "    loss = criterion(input=prediction, target=y)\n",
    "    plt.clf()\n",
    "    plt.xlim(0, 11);    plt.ylim(0, 8)\n",
    "    plt.scatter(x.data.numpy(), y.data.numpy())\n",
    "    plt.plot(x.data.numpy(), prediction.data.numpy(), 'b--')\n",
    "    plt.show()\n",
    "display_results(model, x, y)"
   ]
  },
  {
   "cell_type": "code",
   "execution_count": 7,
   "metadata": {},
   "outputs": [],
   "source": [
    "torch.save(obj=model, f='model.pt')\n",
    "loaded_model = torch.load(f='model.pt')"
   ]
  }
 ],
 "metadata": {
  "kernelspec": {
   "display_name": "Python 3",
   "language": "python",
   "name": "python3"
  },
  "language_info": {
   "codemirror_mode": {
    "name": "ipython",
    "version": 3
   },
   "file_extension": ".py",
   "mimetype": "text/x-python",
   "name": "python",
   "nbconvert_exporter": "python",
   "pygments_lexer": "ipython3",
   "version": "3.6.8"
  }
 },
 "nbformat": 4,
 "nbformat_minor": 2
}
